{
 "cells": [
  {
   "cell_type": "markdown",
   "metadata": {},
   "source": [
    "# shakespearian-poems (Character-level Language Model)\n",
    "\n",
    "Here we build a character-level language model for generating poems that sound Shakespearian.\n",
    "\n",
    "> Inspired by: [Sequence Models](https://www.coursera.org/learn/nlp-sequence-models)."
   ]
  },
  {
   "cell_type": "code",
   "execution_count": null,
   "metadata": {},
   "outputs": [],
   "source": []
  }
 ],
 "metadata": {
  "language_info": {
   "name": "python"
  },
  "orig_nbformat": 4
 },
 "nbformat": 4,
 "nbformat_minor": 2
}
