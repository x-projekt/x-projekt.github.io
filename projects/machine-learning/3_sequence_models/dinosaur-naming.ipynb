{
 "cells": [
  {
   "cell_type": "markdown",
   "metadata": {},
   "source": [
    "# dinosaur-naming (Character-level Language Model)\n",
    "\n",
    "Here we build a character-level language model for generating potential Dinosaur names.\n",
    "\n",
    "> Inspired by: [Sequence Models](https://www.coursera.org/learn/nlp-sequence-models)."
   ]
  },
  {
   "cell_type": "code",
   "execution_count": 1,
   "metadata": {},
   "outputs": [
    {
     "name": "stdout",
     "output_type": "stream",
     "text": [
      "PyTorch using device: cuda\n"
     ]
    }
   ],
   "source": [
    "import numpy as np\n",
    "import torch\n",
    "from utils import rnn\n",
    "import random\n",
    "from tqdm import tqdm\n",
    "from matplotlib import pyplot as plt\n",
    "\n",
    "device = 'cuda' if torch.cuda.is_available() else 'cpu'\n",
    "print(f\"PyTorch using device: {device}\")\n",
    "\n",
    "import importlib\n",
    "_ = importlib.reload(rnn)"
   ]
  },
  {
   "cell_type": "code",
   "execution_count": 2,
   "metadata": {},
   "outputs": [
    {
     "name": "stdout",
     "output_type": "stream",
     "text": [
      "[Train] word-count: 1536\n",
      "[Train] total character-count: 19909\n",
      "[Train] character-count: 27\n",
      "\tCharacters: ['\\n', 'a', 'b', 'c', 'd', 'e', 'f', 'g', 'h', 'i', 'j', 'k', 'l', 'm', 'n', 'o', 'p', 'q', 'r', 's', 't', 'u', 'v', 'w', 'x', 'y', 'z']\n"
     ]
    }
   ],
   "source": [
    "data = open('../data/dino-names.txt', 'r').read()\n",
    "data = data.lower()\n",
    "words = data.split('\\n')\n",
    "chars = sorted(list(set(data)))\n",
    "data_size, vocab_size = len(data), len(chars)\n",
    "\n",
    "print(f\"[Train] word-count: {len(words)}\")\n",
    "print(f\"[Train] total character-count: {len(data)}\")\n",
    "print(f\"[Train] character-count: {len(chars)}\\n\\tCharacters: {chars}\")"
   ]
  },
  {
   "cell_type": "markdown",
   "metadata": {},
   "source": [
    "## # pre-processing data\n",
    "Here, will encode each character in the input as a one-hot vector."
   ]
  },
  {
   "cell_type": "code",
   "execution_count": 3,
   "metadata": {},
   "outputs": [
    {
     "name": "stdout",
     "output_type": "stream",
     "text": [
      "[One-Hot] word-count: 1536\n"
     ]
    }
   ],
   "source": [
    "ch_idx = dict()\n",
    "idx_ch = dict()\n",
    "for idx, ch in enumerate(chars):\n",
    "    ch_idx[ch] = idx\n",
    "    idx_ch[idx] = ch\n",
    "\n",
    "n_x = vocab_size\n",
    "I = np.eye(N=n_x)\n",
    "\n",
    "X, Y = list(), list()\n",
    "start_x = torch.zeros(size=(1,1,n_x,1))\n",
    "eof_vector = torch.reshape(\n",
    "    torch.Tensor(np.copy(I[[ch_idx['\\n']]])), \n",
    "    shape=(1,1,n_x,1))\n",
    "for w in words:\n",
    "    char_idx = [ch_idx[c] for c in w]\n",
    "    word_tensor = torch.reshape(\n",
    "        torch.Tensor(np.copy(I[char_idx])), \n",
    "        shape=(len(w),1,n_x,1))\n",
    "    \n",
    "    # shape -> (T_x := len(w) + 1, 1, n_x, 1)\n",
    "    X.append(torch.cat([start_x, word_tensor], dim=0))\n",
    "\n",
    "    # shape -> (T_y := len(w) + 1, 1, n_x, 1)\n",
    "    Y.append(torch.cat([word_tensor, eof_vector], dim=0))\n",
    "\n",
    "print(f\"[One-Hot] word-count: {len(X)}\")"
   ]
  },
  {
   "cell_type": "markdown",
   "metadata": {},
   "source": [
    "## # forward-propagation\n",
    "\n",
    "> **Note**: for forward propagation equations, see Section-2 of [`.\\backprop-vanilla-rnn.pdf`](./backprop-vanilla-rnn.pdf)"
   ]
  },
  {
   "cell_type": "code",
   "execution_count": 4,
   "metadata": {},
   "outputs": [],
   "source": [
    "def forward_prop(x: torch.Tensor, rnn_block: rnn.RNNBlock, a_0: torch.Tensor, **kwargs) -> dict:\n",
    "    \"\"\"Performs forward propagation through the specified rnn_block\n",
    "\n",
    "    x: shape -> (T_x,m,n_x,1)\n",
    "    rnn_block: an instance of RNNBlock()\n",
    "    a_0: shape -> (n_a,1) or (m,n_a,1)\n",
    "\n",
    "    output: a dictionary of activations for each time-step. This takes the following format\n",
    "    cache[t] = {self.zy: z_y, self.za: z_a, self.at: a_t, self.yht: y_hat}\n",
    "    \"\"\"\n",
    "    T_x, _, n_x, _ = x.shape\n",
    "    cache = dict()\n",
    "    a_t_1 = a_0\n",
    "    for t in np.arange(start=1, stop=T_x+1):\n",
    "        _, _, fw_cache = rnn_block.forward(a_t_1=a_t_1, x_t=x[t-1])\n",
    "\n",
    "        a_t_1 = fw_cache[rnn_block.a_t]\n",
    "\n",
    "        cache[t] = fw_cache\n",
    "\n",
    "    return cache\n",
    "\n",
    "def compute_loss(rnn_block: rnn.RNNBlock, forward_cache: dict, Y: torch.Tensor, \n",
    "        device=device, **kwargs) -> np.float64:\n",
    "    T_x = Y.shape[0]\n",
    "    m = Y.shape[1]\n",
    "\n",
    "    loss = torch.zeros(size=(m,1), device=device)\n",
    "    for t in np.arange(start=1,stop=T_x+1):\n",
    "        cache = forward_cache[t]\n",
    "        y_t = cache[rnn_block.yh_t]\n",
    "        loss += torch.sum(torch.multiply(-Y[t-1, :, :, :], torch.log(y_t)), dim=1)\n",
    "\n",
    "    return torch.mean(loss, dim=0, keepdim=False).item()"
   ]
  },
  {
   "cell_type": "markdown",
   "metadata": {},
   "source": [
    "## # backward-propagation\n",
    "> **Note:** for the backward-propagation equations, and their derivations, see Section-3 of [`.\\backprop-vanilla-rnn.pdf`](./backprop-vanilla-rnn.pdf)"
   ]
  },
  {
   "cell_type": "code",
   "execution_count": 5,
   "metadata": {},
   "outputs": [],
   "source": [
    "def backward_prop(Y: torch.Tensor, forward_cache: dict, \n",
    "        rnn_block: rnn.RNNBlock, da_Tx: torch.Tensor, **kwargs) -> dict:\n",
    "    \"\"\"Performs backward propagation through the specified rnn_block\n",
    "\n",
    "    Y -> (T_x,m,n_y,1): the tensor of output labels \n",
    "    forward_cache: a dictionary containing the forward propagation cache as returned \n",
    "        by the `forward_prop()` method.\n",
    "    rnn_block: an instance of RNNBlock()\n",
    "    da_Tx: gradient for activation of the last time-step. Usually, this is a zero-vector.\n",
    "\n",
    "    output: a dictionary of gradients for each time step.\n",
    "    \"\"\"\n",
    "    T_x = Y.shape[0]\n",
    "\n",
    "    cache = dict()\n",
    "    da_t = da_Tx\n",
    "    for t in np.arange(start=T_x, stop=0, step=-1):\n",
    "        y, yh = Y[t-1,:,:,:], forward_cache[t][rnn_block.yh_t]\n",
    "        dy_t = torch.transpose(torch.divide(input=y, other=yh), dim0=1, dim1=2)\n",
    "        _, back_cache = rnn_block.backward(\n",
    "            da_t=da_t, dy_t=dy_t, forward_cache_t=forward_cache[t], **kwargs)\n",
    "\n",
    "        da_t = back_cache[rnn_block.da_t_1]\n",
    "\n",
    "        cache[t] = back_cache\n",
    "\n",
    "    return cache"
   ]
  },
  {
   "cell_type": "markdown",
   "metadata": {},
   "source": [
    "## # model-training\n",
    "\n",
    "We will use stochastic gradient descent for updating the parameters."
   ]
  },
  {
   "cell_type": "code",
   "execution_count": 6,
   "metadata": {},
   "outputs": [],
   "source": [
    "last_grad_params = None\n",
    "def update_parameters(backward_cache: dict, rnn_block: rnn.RNNBlock, \n",
    "        iteration: int, epsilon: np.float64=1e-8, alpha: float=1e-3, \n",
    "        beta1: float=0.9, beta2: float=0.999, \n",
    "        limits=(None, None), **kwargs):\n",
    "    \"\"\"Updates the parameters of the model stored in the specified RNN-Block.\n",
    "\n",
    "    backward_cache: the backward cache returned by the call to backward_prop()\n",
    "    rnn_block: the RNN block containing the model being trained\n",
    "    iteration: the iteration at which this method is called\n",
    "\n",
    "    Note: other parameters have their usual meaning\n",
    "    \"\"\"\n",
    "\n",
    "    global last_grad_params\n",
    "    model = rnn_block.model\n",
    "    params = {\n",
    "        rnn_block.p_Waa: rnn_block.dW_aa, \n",
    "        rnn_block.p_Wax: rnn_block.dW_ax, \n",
    "        rnn_block.p_Wya: rnn_block.dW_ya, \n",
    "        rnn_block.p_by: rnn_block.db_y, \n",
    "        rnn_block.p_ba: rnn_block.db_a\n",
    "    }\n",
    "\n",
    "    if last_grad_params is None:\n",
    "        last_grad_params = dict()\n",
    "        for p, dp in params.items():\n",
    "            last_grad_params['v-' + p] = torch.zeros_like(model[p])\n",
    "            last_grad_params['s-' + p] = torch.zeros_like(model[p])\n",
    "\n",
    "    gradients = {dp: torch.zeros_like(model[p]) for p, dp in params.items()}\n",
    "    for t in range(1, len(backward_cache) + 1):\n",
    "        back_cache = backward_cache[t]\n",
    "        for p, dp in params.items():\n",
    "            gradients[dp] += torch.mean(torch.transpose(\n",
    "                    back_cache[dp], dim0=1, dim1=2), dim=0, keepdim=False)\n",
    "\n",
    "    for p, dp in params.items():\n",
    "        last_grad_params['v-' + p] = (1 - beta1) * gradients[dp] \\\n",
    "            + beta1 * last_grad_params['v-' + p]\n",
    "\n",
    "    for p, dp in params.items():\n",
    "        last_grad_params['s-' + p] = (1 - beta2) * torch.square(gradients[dp]) \\\n",
    "            + beta2 * last_grad_params['s-' + p]\n",
    "\n",
    "    for p, dp in params.items():\n",
    "        model[p] += -alpha * torch.divide(\n",
    "            last_grad_params['v-' + p] / (1 - np.power(beta1, iteration)), \n",
    "            torch.sqrt(last_grad_params['s-' + p] / (1 - np.power(beta2, iteration))) \n",
    "                + epsilon)\n",
    "\n",
    "def train(rnn_block: rnn.RNNBlock, X_train: list, Y_train: list, a_0: torch.Tensor, \n",
    "        da_Tx: torch.Tensor, epochs: int=100, **kwargs):\n",
    "    \"\"\"This method trains the RNN model.\n",
    "\n",
    "    rnn_block: the rnn-block containing the model\n",
    "    X_train: the list of training examples\n",
    "    eof_vector -> (1,1,n_x,1): the one-hot encoding for `\\n` character.\n",
    "    epochs: the number of epochs\n",
    "    \"\"\"\n",
    "    debug_cache = dict()\n",
    "\n",
    "    iteration = 1\n",
    "    train_set = list(zip(X_train, Y_train))\n",
    "    for e in tqdm(np.arange(stop=epochs)):\n",
    "        random.shuffle(train_set)\n",
    "        for x, y in train_set:\n",
    "            assert x.shape[0] == y.shape[0], \\\n",
    "                f\"The input ({x.shape[0]}) and lable ({y.shape[0]}) lengths don't match.\"\n",
    "\n",
    "            x_cuda, y_cuda = x.to(device=device), y.to(device=device)\n",
    "            a_0_cuda, da_Tx_cuda = a_0.to(device=device), da_Tx.to(device=device)\n",
    "\n",
    "            fw_cache = forward_prop(x=x_cuda, rnn_block=rnn_block, \n",
    "                a_0=a_0_cuda, **kwargs)\n",
    "\n",
    "            bw_cache = backward_prop(\n",
    "                Y=y_cuda, forward_cache=fw_cache, rnn_block=rnn_block, \n",
    "                da_Tx=da_Tx_cuda, **kwargs)\n",
    "\n",
    "            update_parameters(backward_cache=bw_cache, rnn_block=rnn_block, \n",
    "                iteration=iteration, **kwargs)\n",
    "\n",
    "            debug_cache[iteration] = compute_loss(\n",
    "                rnn_block=rnn_block, forward_cache=fw_cache, Y=y_cuda, **kwargs)\n",
    "\n",
    "            iteration += 1\n",
    "\n",
    "    return rnn_block, debug_cache"
   ]
  },
  {
   "cell_type": "markdown",
   "metadata": {},
   "source": [
    "## # model-training\n",
    "The model parameters have the following dimensions:\n",
    "\n",
    "<center>\n",
    "\n",
    "| Parameter | Value | Remarks             |\n",
    "|-----------|-------|---------------------|\n",
    "| $n_x$     | 27    | the character-count |\n",
    "| $n_a$     | 50    |                     |\n",
    "| $n_y$     | 27    | the character-count |\n",
    "\n",
    "</center>"
   ]
  },
  {
   "cell_type": "code",
   "execution_count": 7,
   "metadata": {},
   "outputs": [],
   "source": [
    "rnn_block = rnn.Vanilla(model={\n",
    "    'n_a': 50,\n",
    "    'n_x': 27,\n",
    "    'n_y': 27\n",
    "})\n",
    "model = rnn_block.model\n",
    "\n",
    "model[rnn_block.p_Waa] = torch.empty(size=(model['n_a'], model['n_a']), device=device)\n",
    "model[rnn_block.p_Waa] = torch.nn.init.xavier_normal_(model[rnn_block.p_Waa]) * 0.01\n",
    "\n",
    "model[rnn_block.p_Wax] = torch.empty(size=(model['n_x'], model['n_a']), device=device)\n",
    "model[rnn_block.p_Wax] = torch.nn.init.xavier_normal_(model[rnn_block.p_Wax]) * 0.01\n",
    "\n",
    "model[rnn_block.p_Wya] = torch.empty(size=(model['n_a'], model['n_y']), device=device)\n",
    "model[rnn_block.p_Wya] = torch.nn.init.xavier_normal_(model[rnn_block.p_Wya]) * 0.01\n",
    "\n",
    "model[rnn_block.p_ba] = torch.empty(size=(model['n_a'],1), device=device)\n",
    "_ = torch.nn.init.zeros_(model[rnn_block.p_ba])\n",
    "\n",
    "model[rnn_block.p_by] = torch.empty(size=(model['n_y'],1), device=device)\n",
    "_ = torch.nn.init.zeros_(model[rnn_block.p_by])"
   ]
  },
  {
   "cell_type": "code",
   "execution_count": 8,
   "metadata": {},
   "outputs": [
    {
     "name": "stderr",
     "output_type": "stream",
     "text": [
      "100%|██████████| 25/25 [10:09<00:00, 24.38s/it]\n"
     ]
    }
   ],
   "source": [
    "a_0 = torch.zeros(size=(1,model['n_a'],1))\n",
    "da_Tx = torch.zeros(size=(1,1,model['n_a']))\n",
    "\n",
    "_, debug_cache = train(rnn_block=rnn_block, X_train=X, Y_train=Y, a_0=a_0, da_Tx=da_Tx,\n",
    "    eof_vector=eof_vector, epochs=25, alpha=1e-5, device=device)"
   ]
  },
  {
   "cell_type": "code",
   "execution_count": 9,
   "metadata": {},
   "outputs": [
    {
     "data": {
      "image/png": "[encoded data removed]",
      "text/plain": [
       "<Figure size 2160x1080 with 1 Axes>"
      ]
     },
     "metadata": {
      "needs_background": "light"
     },
     "output_type": "display_data"
    }
   ],
   "source": [
    "fig, ax = plt.subplots(nrows=1,ncols=1, figsize=(30,15))\n",
    "\n",
    "x = list(debug_cache.keys())\n",
    "y = list(debug_cache.values())\n",
    "ewma_y = list()\n",
    "\n",
    "beta = 0.99\n",
    "v_1 = 0\n",
    "for i,v in zip(x,y):\n",
    "    ewma_y.append((1-beta) * v + beta * v_1)\n",
    "    v_1 = ewma_y[-1]\n",
    "\n",
    "ax.plot(x, ewma_y)\n",
    "ax.set_xlabel('Iteration -->')\n",
    "ax.set_ylabel('Cost -->')\n",
    "ax.set_title('Cost vs Iteration')\n",
    "\n",
    "plt.show()"
   ]
  },
  {
   "cell_type": "markdown",
   "metadata": {},
   "source": [
    "## # sampling\n",
    "Here we sample characters to produce potential dinosaur names. Instead of sampling the most probable word, based on the probabilities from the output vector $\\hat{\\mathbf{y}}^{\\langle t\\rangle}$, we choose a random-word based on this probability distribution. Since, if we chose the most probable word, the model will sample the same word all the time."
   ]
  },
  {
   "cell_type": "code",
   "execution_count": 10,
   "metadata": {},
   "outputs": [
    {
     "name": "stdout",
     "output_type": "stream",
     "text": [
      "Sample word: wzfwwfvzqfzqqqfwbxvjffqjwjfffwxjjzwqfzzjqqzwxqjbvjw\n"
     ]
    }
   ],
   "source": [
    "model = rnn_block.model\n",
    "\n",
    "is_eof_char = False\n",
    "a_t_1 = a_0\n",
    "x_t = start_x[0,:,:,:]\n",
    "word = list()\n",
    "while (not is_eof_char) and (len(word) <= 50):\n",
    "    y_hat, a_t, c = rnn_block.forward(\n",
    "        a_t_1=a_t_1.to(device), x_t=x_t.to(device))\n",
    "    idx = np.random.choice(a=list(idx_ch.keys()), \n",
    "        p=torch.squeeze(input=y_hat).cpu().detach().numpy())\n",
    "\n",
    "    is_eof_char = idx == 0\n",
    "\n",
    "    word.append(idx_ch[idx])\n",
    "    x_t = torch.reshape(torch.Tensor(np.copy(I[idx])), \n",
    "        shape=(1,n_x,1))\n",
    "    a_t_1 = a_t\n",
    "\n",
    "print(f\"Sample word: {''.join(word)}\")"
   ]
  }
 ],
 "metadata": {
  "interpreter": {
   "hash": "a53c516957d88d75758cc88f2e8a19065d67415f5b9898e51f5c04d556e4cb29"
  },
  "kernelspec": {
   "display_name": "Python 3.8.10 ('.venv': venv)",
   "language": "python",
   "name": "python3"
  },
  "language_info": {
   "codemirror_mode": {
    "name": "ipython",
    "version": 3
   },
   "file_extension": ".py",
   "mimetype": "text/x-python",
   "name": "python",
   "nbconvert_exporter": "python",
   "pygments_lexer": "ipython3",
   "version": "3.8.10"
  },
  "orig_nbformat": 4
 },
 "nbformat": 4,
 "nbformat_minor": 2
}
