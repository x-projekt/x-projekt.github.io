{
 "cells": [
  {
   "cell_type": "markdown",
   "metadata": {},
   "source": [
    "# cat-classifier\n",
    "Here we build a deep neural-network for classifying cats.\n",
    "\n",
    "> Inspired by: [Neural Networks and Deep Learning](https://www.coursera.org/learn/neural-networks-deep-learning?specialization=deep-learning)"
   ]
  },
  {
   "cell_type": "code",
   "execution_count": null,
   "metadata": {},
   "outputs": [],
   "source": [
    "import numpy as np\n",
    "from numpy.random import default_rng\n",
    "from matplotlib import pyplot as plt\n",
    "from tqdm import tqdm\n",
    "import h5py"
   ]
  },
  {
   "cell_type": "code",
   "execution_count": 2,
   "metadata": {},
   "outputs": [
    {
     "name": "stdout",
     "output_type": "stream",
     "text": [
      "Train-x: (209, 64, 64, 3)\n",
      "Train-y: (209,)\n",
      "Test-x: (50, 64, 64, 3)\n",
      "Test-x: (50,)\n"
     ]
    }
   ],
   "source": [
    "# importing train and test sets\n",
    "test_f = h5py.File(\"../data/test-cat-classifier.h5\", mode='r')\n",
    "test_x = np.array(test_f['test_set_x'])\n",
    "test_y = np.array(test_f['test_set_y'])\n",
    "\n",
    "train_f = h5py.File(\"../data/train-cat-classifier.h5\", mode='r')\n",
    "train_x = np.array(train_f['train_set_x'])\n",
    "train_y = np.array(train_f['train_set_y'])\n",
    "\n",
    "print(f\"Train-x: {train_x.shape}\")\n",
    "print(f\"Train-y: {train_y.shape}\")\n",
    "print(f\"Test-x: {test_x.shape}\")\n",
    "print(f\"Test-x: {test_y.shape}\")\n",
    "\n",
    "train_f.close()\n",
    "test_f.close()"
   ]
  },
  {
   "cell_type": "markdown",
   "metadata": {},
   "source": [
    "## # pre-processing train & test sets\n",
    "The following pre-processing methods are used:\n",
    " 1. Method-1:\n",
    "    - Flatten each image into a single vector of dimension (num_px * num_px * 3)\n",
    "    - Center and standardize the dataset:\n",
    "        - Compute the mean and standard-Diviation for each component/element, of all the training examples\n",
    "        - Subtract the above computed-mean from each component/element, of all training examples\n",
    "        - Divide each training example by the above computed standard-deviation\n",
    " 2. Method-2: (_only for picture datasets_)\n",
    "    - Flatten each image into a single vector of dimension (num_px * num_px * 3)\n",
    "    - Divide every trainig example by 255 - the maximum value of any color-channel."
   ]
  },
  {
   "cell_type": "code",
   "execution_count": 3,
   "metadata": {},
   "outputs": [],
   "source": [
    "def pre_process(method):\n",
    "    X_train = train_x.reshape((train_x.shape[0], -1)).copy().T\n",
    "    Y_train = train_y.reshape((1, train_y.shape[0])).copy()\n",
    "\n",
    "    X_test = test_x.reshape((test_x.shape[0], -1)).copy().T\n",
    "    Y_test = test_y.reshape((1, test_y.shape[0])).copy()\n",
    "    \n",
    "\n",
    "    if method == 1:\n",
    "        print(f\"Pre-processing data-set... {{method: {method}}} (mean & variance normalization)\")\n",
    "        \n",
    "        train_mean = np.mean(X_train, axis=1).reshape((X_train.shape[0], 1))\n",
    "        train_sd = np.std(X_train, axis=1).reshape((X_train.shape[0], 1))\n",
    "        \n",
    "        X_train = (X_train - train_mean) / train_sd\n",
    "        X_test = (X_test - train_mean) / train_sd\n",
    "    elif method == 2:\n",
    "        print(f\"Pre-processing data-set... {{method: {method}}} (division by 255)\")\n",
    "        X_test = X_test / 255.0\n",
    "        X_train = X_train / 255.0\n",
    "    else:\n",
    "        raise ValueError(f\"Invalid method {method}\")\n",
    "    \n",
    "    print(f\"X-train: {X_train.shape}\")\n",
    "    print(f\"Y-train: {Y_train.shape}\")\n",
    "    print(f\"X-test: {X_test.shape}\")\n",
    "    print(f\"Y-test: {Y_test.shape}\")\n",
    "\n",
    "    return X_train, Y_train, X_test, Y_test"
   ]
  },
  {
   "cell_type": "markdown",
   "metadata": {},
   "source": [
    "## # general-architecture\n",
    "<div style=\"text-align:center\">\n",
    "    <img src=\"img/cat-classifier-nn-split.svg\" />\n",
    "    <br><b>Fig.1:</b> the black-colored arrows correspond to forward-propagation; the green-colored arrows correspond to the gradient-flow.\n",
    "</div>\n",
    "\n",
    "## # forward-propagation\n",
    "\n",
    "The equations for forward propagation are as follows:\n",
    "\n",
    "$$\n",
    "\\begin{aligned}\n",
    "\\mathbf{Z}^{[l]} & = (\\mathbf{W}^{[l]})^\\intercal \\mathbf{A}^{[l-1]} + \\mathbf{b}^{[l]}\\vec{1}_{(1,m)} \\\\\n",
    "\\mathbf{A}^{[l]} & = f_{activation}(\\mathbf{Z}^{[l]})\\\\\n",
    "\\mathbf{L}(\\mathbf{a}^{[L]}, \\mathbf{y}) & = -\\mathbf{y}\\circ\\log(\\hat{\\mathbf{y}}) - (1 - \\mathbf{y})\\circ\\log(1 - \\hat{\\mathbf{y}}) \\\\\n",
    "J & = \\frac{1}{m}\\sum_{i = 1}^{m}L(\\hat{y}^{(i)}, y^{(i)})  = \\frac{1}{m}\\mathbf{L}\\vec{1}_{(m,1)} \\\\\n",
    "\\end{aligned}\n",
    "$$\n",
    "\n",
    "\\begin{align*}\n",
    "\\text{where, } & m && \\text{is the number of training-examples} \\\\\n",
    "& L && \\text{is the number of layers, i.e. network-depth} \\\\\n",
    "& \\mathbf{W}^{[l]} &&\\text{is a $(n^{[l-1]}, n^{[l]})$ dimensional Weight-matrix}\\\\\n",
    "& \\mathbf{A}^{[l-1]} &&\\text{is a $(n^{[l-1]}, m)$ dimenstional activation-vector; and, }\\mathbf{A}^{[0]} = \\mathbf{X} \\\\\n",
    "& \\mathbf{b}^{[l]} &&\\text{is a $(n^{[l]}, 1)$ dimenstional bias-vector} \\\\\n",
    "& \\vec{1}_{(1,m)} && \\text{is a $(1, m)$ dimensional vector of all 1's.} \\\\\n",
    "& &&\\text{Multiplying this with $ \\mathbf{b}^{[l]}$ has the same effect as python broadcasting.} \\\\\n",
    "& f_{activation}() &&\\text{is ReLU for all hidden-layers; is Sigmoid for the output-layer} \\\\\n",
    "& \\hat{\\mathbf{y}} && = \\mathbf{a}^{[4]}\\text{, the result of the output-layer} \\\\\n",
    "& \\mathbf{L} &&\\text{is the cross-entropy loss-function, and is a $(1,m)$ row vector}\\\\\n",
    "& J && \\text{is the cross-entropy cost-function}\n",
    "\\end{align*}\n",
    "\n",
    "**Note**: The underlying implementation is generalized, in-terms of the number of layers and their dimensions, i.e. the implementation should work for any network-size."
   ]
  },
  {
   "cell_type": "code",
   "execution_count": 4,
   "metadata": {},
   "outputs": [],
   "source": [
    "def sigmoid(Z: np.ndarray) -> np.ndarray:\n",
    "    return 1 / (1 + np.exp(-Z))\n",
    "\n",
    "def relu(Z: np.ndarray) -> np.ndarray:\n",
    "    return np.maximum(Z, 0)\n",
    "\n",
    "def linear(W: np.ndarray, A: np.ndarray, b: np.ndarray) -> np.ndarray:\n",
    "    return np.matmul(W.T, A) + b\n",
    "\n",
    "def activation(Zl: np.ndarray, func_name: str) -> np.ndarray:\n",
    "    if func_name == 'sigmoid':\n",
    "        return sigmoid(Zl)\n",
    "    elif func_name == 'relu':\n",
    "        return relu(Zl)\n",
    "    else:\n",
    "        raise ValueError(f\"Unknown activation-function: {func_name}\")\n",
    "\n",
    "def forward_propogate(X: np.ndarray, model: dict) -> tuple:\n",
    "    L: int = model[\"L\"]\n",
    "    \n",
    "    cache = {'c-l0': (X, None, None, None)}\n",
    "\n",
    "    Al_1 = X\n",
    "    Al = None\n",
    "    for l in range(L):\n",
    "        Wl = model['W-l' + str(l + 1)]\n",
    "        bl = model['b-l' + str(l + 1)]\n",
    "        Zl = linear(Wl, Al_1, bl)\n",
    "        Al = activation(Zl, model['g-l' + str(l + 1)])\n",
    "        cache['c-l' + str(l + 1)] = (Al.copy(), Wl.copy(), bl.copy(), Zl.copy())\n",
    "        \n",
    "        Al_1 = Al\n",
    "    \n",
    "    return Al, cache\n",
    "\n",
    "def cost(Al: np.ndarray, Y: np.ndarray, **kwargs) -> float:\n",
    "    \"\"\"\n",
    "    Assumes Y and Al to be (1,m) dimensional vectors\n",
    "    \"\"\"\n",
    "    assert Al.shape == Y.shape\n",
    "\n",
    "    return np.sum(-Y * np.log(Al) - (1 - Y) * np.log(1 - Al)) / Y.shape[1]"
   ]
  },
  {
   "cell_type": "markdown",
   "metadata": {},
   "source": [
    "## # gradient-descent\n",
    "The optimization is performed according to the following equations:\n",
    "\n",
    "$$\n",
    "\\begin{aligned}\n",
    "\\mathbf{W}^{[l]} & := \\mathbf{W}^{[l]} - \\alpha\\nabla_{\\mathbf{W}^{[l]}}(J) \\\\\n",
    "\\mathbf{b}^{[l]} & := \\mathbf{b}^{[l]} - \\alpha\\nabla_{\\mathbf{b}^{[l]}}(J) \\\\\n",
    "& \\text{where, $\\alpha$ is the learning-rate/step-size.}\n",
    "\\end{aligned}\n",
    "$$\n",
    "\n",
    "The following derivatives are jacobians:\n",
    "\n",
    "$$\n",
    "\\begin{aligned}\n",
    "& \\frac{\\mathrm{d}J}{\\mathrm{d}\\mathbf{Z}^{[l]}} && = \\frac{\\mathrm{d}J}{\\mathrm{d}\\mathbf{A}^{[l]}} \\circ\n",
    "\\begin{bmatrix}\n",
    "\\mathrm{diag}^{-1}\\biggl(\\frac{\\mathrm{d}\\mathbf{A}^{[l](1)}}{\\mathrm{d}\\mathbf{Z}^{[l](1)}}\\biggr)^\\intercal \\\\\n",
    "\\vdots\\\\\n",
    "\\mathrm{diag}^{-1}\\biggl(\\frac{\\mathrm{d}\\mathbf{A}^{[l](m)}}{\\mathrm{d}\\mathbf{Z}^{[l](m)}}\\biggr)^\\intercal\n",
    "\\end{bmatrix} \\\\\n",
    "&\\frac{\\mathrm{d}J}{\\mathrm{d}\\mathbf{W}^{[l]}} && = \\biggl(\\frac{\\mathrm{d}J}{\\mathrm{d}\\mathbf{Z}^{[l]}}\\biggr)^\\intercal (\\mathbf{A}^{[l-1]})^\\intercal  \\\\\n",
    "&\\frac{\\mathrm{d}J}{\\mathrm{d}\\mathbf{b}^{[l]}} && = \\vec{1}_{(1,m)} \\frac{\\mathrm{d}J}{\\mathrm{d}\\mathbf{Z}^{[l]}} \\\\\n",
    "&\\frac{\\mathrm{d}J}{\\mathrm{d}\\mathbf{A}^{[l-1]}} && = \\frac{\\mathrm{d}J}{\\mathrm{d}\\mathbf{Z}^{[l]}} (\\mathbf{W}^{[l]})^\\intercal  \\\\\n",
    "\\end{aligned}\n",
    "$$\n",
    "And, the gradients are simply the transpose of these jacobians, i.e.\n",
    "\n",
    "$$\n",
    "\\begin{aligned}\n",
    "\\nabla_{\\mathbf{W}^{[l]}}\\big(J\\big) & = \\bigg(\\frac{\\mathrm{d}J}{\\mathrm{d}\\mathbf{W}^{[l]}}\\bigg)^\\intercal && = \\mathbf{A}^{[l-1]} \\frac{\\mathrm{d}J}{\\mathrm{d}\\mathbf{Z}^{[l]}} \\\\\n",
    "\\nabla_{\\mathbf{b}^{[l]}}\\big(J\\big) & = \\bigg(\\frac{\\mathrm{d}J}{\\mathrm{d}\\mathbf{b}^{[l]}}\\bigg)^\\intercal && = \\biggl(\\frac{\\mathrm{d}J}{\\mathrm{d}\\mathbf{Z}^{[l]}}\\biggr)^\\intercal (\\vec{1}_{(1,m)})^\\intercal  \\\\\n",
    "\\end{aligned}\n",
    "$$\n",
    "\n",
    "> **Note**: for detailed of derivation of these jacobians using back-propagation, see [`.\\back-propagation.pdf`](.\\back-propagation.pdf).\n",
    "\n",
    "* When $l = 4$ (i.e., the output-layer), we have\n",
    "\n",
    "$$\n",
    "\\frac{\\mathrm{d}J}{\\mathrm{d}\\mathbf{A}^{[4]}} = \\biggl(\\frac{\\mathrm{d}J}{\\mathrm{d}(\\mathbf{a}^{[4]})^\\intercal}\\biggr)^\\intercal = \\frac{1}{m}\n",
    "\\begin{bmatrix}\n",
    "\\frac{\\partial L^{(1)}}{\\partial a^{[4](1)}} \\\\\n",
    "\\frac{\\partial L^{(2)}}{\\partial a^{[4](2)}} \\\\\n",
    "\\vdots \\\\\n",
    "\\frac{\\partial L^{(m)}}{\\partial a^{[4](m)}}\n",
    "\\end{bmatrix}\n",
    "$$\n",
    "\n",
    "$$\n",
    "\\begin{aligned}\n",
    "\\text{where, } \\frac{\\partial L^{(i)}}{\\partial a^{[4](i)}} & = -\\frac{y^{(i)}}{a^{[4](i)}} + \\frac{1 - y^{(i)}}{1 - a^{[4](i)}} \\\\\n",
    "& = \\frac{a^{[4](i)} - y^{(i)}}{a^{[4](i)}(1 - a^{[4](i)})} \\\\\n",
    "\\end{aligned}\n",
    "$$\n",
    "\n",
    "* When $f_{activation}$ = `sigmoid`, we have\n",
    "$$\n",
    "\\begin{aligned}\n",
    "\\qquad \\mathrm{diag}^{-1}\\biggl(\\frac{\\mathrm{d}\\mathbf{A}^{[l](i)}}{\\mathrm{d}\\mathbf{Z}^{[l](i)}}\\biggr)^\\intercal & = \\begin{bmatrix}\n",
    "\\frac{\\mathrm{d}a^{[l](i)}_{1}}{\\mathrm{d}z^{[l](i)}_{1}} & \\frac{\\mathrm{d}a^{[l](i)}_{2}}{\\mathrm{d}z^{[l](i)}_{2}} \n",
    "& \\dots & \\frac{\\mathrm{d}a^{[l](i)}_{n^{[l]}}}{\\mathrm{d}z^{[l](i)}_{n^{[l]}}}\\\\\n",
    "\\end{bmatrix} \\\\\n",
    "& = \\begin{bmatrix}\n",
    "a^{[l](i)}_{1} (1 - a^{[l](i)}_{1}) &\n",
    "a^{[l](i)}_{2} (1 - a^{[l](i)}_{2}) &\n",
    "\\dots &\n",
    "a^{[l](i)}_{n^{[l]}} (1 - a^{[l](i)}_{n^{[l]}}) \\\\\n",
    "\\end{bmatrix} \\\\\n",
    "& = (\\mathbf{A}^{[l](i)})^\\intercal \\circ (1 - (\\mathbf{A}^{[l](i)})^\\intercal)\\\\\n",
    "\\end{aligned}\n",
    "$$\n",
    "\n",
    "$\\qquad\\qquad$ generalizing the above result over all $m$-examples, we get\n",
    "$$\n",
    "\\begin{bmatrix}\n",
    "\\mathrm{diag}^{-1}\\biggl(\\frac{\\mathrm{d}\\mathbf{A}^{[l](1)}}{\\mathrm{d}\\mathbf{Z}^{[l](1)}}\\biggr)^\\intercal \\\\ \n",
    "\\vdots \\\\\n",
    "\\mathrm{diag}^{-1}\\biggl(\\frac{\\mathrm{d}\\mathbf{A}^{[l](m)}}{\\mathrm{d}\\mathbf{Z}^{[l](m)}}\\biggr)^\\intercal \\\\\n",
    "\\end{bmatrix} = (\\mathbf{A}^{[l]})^\\intercal \\circ (1 - (\\mathbf{A}^{[l]})^\\intercal)\n",
    "$$\n",
    "\n",
    "* When $f_{activation}$ = `relu`, we have\n",
    "$$\n",
    "\\begin{aligned}\n",
    "\\qquad \\mathrm{diag}^{-1}\\biggl(\\frac{\\mathrm{d}\\mathbf{A}^{[l](i)}}{\\mathrm{d}\\mathbf{Z}^{[l](i)}}\\biggr)^\\intercal & = \\begin{bmatrix}\n",
    "\\frac{\\mathrm{d}a^{[l](i)}_{1}}{\\mathrm{d}z^{[l](i)}_{1}} &\n",
    "\\frac{\\mathrm{d}a^{[l](i)}_{2}}{\\mathrm{d}z^{[l](i)}_{2}} &\n",
    "\\dots &\n",
    "\\frac{\\mathrm{d}a^{[l](i)}_{n^{[l]}}}{\\mathrm{d}z^{[l](i)}_{n^{[l]}}}\\\\\n",
    "\\end{bmatrix} \\\\\n",
    "& = \\begin{bmatrix}\n",
    "h(z^{[l](i)}_{1}) &\n",
    "h(z^{[l](i)}_{2}) &\n",
    "\\dots &\n",
    "h(z^{[l](i)}_{n^{[l]}}) \\\\\n",
    "\\end{bmatrix} \\\\\n",
    "& = h(\\mathbf{Z}^{[l](i)})^\\intercal\n",
    " \\end{aligned}\n",
    "$$\n",
    "\n",
    "$\\qquad\\qquad$ generalizing the above result over all $m$-examples, we get\n",
    "$$\n",
    "\\begin{bmatrix}\n",
    "\\mathrm{diag}^{-1}\\biggl(\\frac{\\mathrm{d}\\mathbf{A}^{[l](1)}}{\\mathrm{d}\\mathbf{Z}^{[l](1)}}\\biggr)^\\intercal \\\\ \n",
    "\\vdots \\\\\n",
    "\\mathrm{diag}^{-1}\\biggl(\\frac{\\mathrm{d}\\mathbf{A}^{[l](m)}}{\\mathrm{d}\\mathbf{Z}^{[l](m)}}\\biggr)^\\intercal \\\\\n",
    "\\end{bmatrix} = h(\\mathbf{Z}^{[l]})^\\intercal\n",
    "$$\n",
    "\n",
    "$\\qquad\\qquad$ where, $h(\\mathbf{X})$ is an element-wise operation on $\\mathbf{X}$, such that\n",
    "$$\n",
    "h(x_{ij}) = \n",
    "\\begin{cases}\n",
    "1, & \\text{if } x_{ij} \\gt 0 \\\\\n",
    "0, & \\text{if } x_{ij} \\le 0 \\\\\n",
    "\\end{cases}\n",
    "$$"
   ]
  },
  {
   "cell_type": "code",
   "execution_count": 5,
   "metadata": {},
   "outputs": [],
   "source": [
    "def update_model(l: int, cache: dict, model: dict, dZl: np.ndarray, \n",
    "                 alpha: float, m: int, **kwargs):\n",
    "    assert l > 0, f\"Invalid layer-number {l}\"\n",
    "\n",
    "    # updating Wl\n",
    "    Al_1 = cache['c-l' + str(l - 1)][0]\n",
    "    dWl = np.matmul(dZl.T, Al_1.T) \n",
    "    model['W-l' + str(l)] += -alpha * dWl.T\n",
    "\n",
    "    # updating bl\n",
    "    dbl = np.matmul(np.ones((1, m)), dZl)\n",
    "    model['b-l' + str(l)] += -alpha * dbl.T\n",
    "\n",
    "    # computing dAl_1\n",
    "    Wl = cache['c-l' + str(l)][1]\n",
    "    dAl_1 = np.matmul(dZl, Wl.T)\n",
    "\n",
    "    return dAl_1, dWl, dbl\n",
    "\n",
    "def gradient_descent(X: np.ndarray, Y: np.ndarray, model: dict, \n",
    "        num_iters: int = 3000, alpha: float = 0.0075,\n",
    "        debug_mode=False, debug_per_iter: int=100,\n",
    "\n",
    "        # override for other funcationality\n",
    "        update_model=update_model,\n",
    "        forward_propogate=forward_propogate,\n",
    "        cost_function=cost, **kwargs):\n",
    "\n",
    "    L = model[\"L\"]\n",
    "    m = X.shape[1]\n",
    "    \n",
    "    train_cache = list() if debug_mode else None\n",
    "\n",
    "    print(f\"Gradient-descent... {{alpha: {alpha}, num_iters: {num_iters}}}\")\n",
    "    print(f\"................... {{gradient_func: {update_model.__name__}, cost_func: {cost_function.__name__}}}\")\n",
    "    print(f\"................... {{forward_prop_func: {forward_propogate.__name__}}}\")\n",
    "    \n",
    "    gradient_cache = None\n",
    "    iter_cost = None\n",
    "    for i in tqdm(range(num_iters)):\n",
    "        Al, forward_cache = forward_propogate(X, model=model)\n",
    "\n",
    "        if debug_mode:\n",
    "            if i % debug_per_iter == 0:\n",
    "                gradient_cache = dict()\n",
    "                iter_cost = cost_function(Al, Y, model=model, **kwargs)\n",
    "                # print(f\"Cost after {i}-backprops: {iter_cost}\")\n",
    "\n",
    "        # must be (m,1) dimensional\n",
    "        dAl = np.transpose((Al - Y) / np.multiply(Al, 1 - Al)) / np.float64(m)\n",
    "        dZl = None\n",
    "        for l in reversed(range(1, L+1)):\n",
    "            Al, Wl, bl, Zl = forward_cache['c-l' + str(l)]\n",
    "            if model['g-l' + str(l)] == 'relu':\n",
    "                dZl = np.multiply(dAl, np.where(Zl > 0, 1, 0).T)\n",
    "            elif model['g-l' + str(l)] == 'sigmoid':\n",
    "                dZl = np.multiply(dAl, np.multiply(Al, 1 - Al).T)\n",
    "            else:\n",
    "                raise ValueError(f\"Unknown activation-function {model['g-l' + str(l)]}\")\n",
    "            \n",
    "            dAl_1, dWl, dbl = update_model(l, forward_cache, model, dZl, alpha, m, **kwargs)\n",
    "\n",
    "            if debug_mode:\n",
    "                if i % debug_per_iter == 0:\n",
    "                    gradient_cache['dc-l' + str(l)] = \\\n",
    "                        (dAl.copy(), dWl.copy(), dbl.copy(), dZl.copy())\n",
    "\n",
    "            dAl = dAl_1 # propagating the activation gradient\n",
    "\n",
    "        if debug_mode:\n",
    "            if i % debug_per_iter == 0:\n",
    "                train_cache.append((i, iter_cost, forward_cache, gradient_cache))\n",
    "            \n",
    "        if np.isnan(iter_cost):\n",
    "            print(f\"iter-{i}... NaN-Abort!\")\n",
    "            return model, train_cache\n",
    "\n",
    "    return model, train_cache\n",
    "\n",
    "def threshold_classify(Al, threshold: float=0.5):\n",
    "    return np.where(Al > threshold, 1, 0)\n",
    "\n",
    "def measure_accuracy(X_train: np.ndarray, X_test: np.ndarray, \n",
    "        Y_train: np.ndarray, Y_test: np.ndarray, model: dict):\n",
    "    Al, _ = forward_propogate(X_train, model)\n",
    "    train_acc = 100 * np.sum(threshold_classify(Al) == Y_train) / X_train.shape[1]\n",
    "    \n",
    "    Al, _ = forward_propogate(X_test, model)\n",
    "    test_acc = 100 * np.sum(threshold_classify(Al) == Y_test) / X_test.shape[1]\n",
    "\n",
    "    print(f\"Train accuracy: {np.round(train_acc, 3)}%\")\n",
    "    print(f\"Test accuracy: {np.round(test_acc, 3)}%\")"
   ]
  },
  {
   "cell_type": "code",
   "execution_count": 6,
   "metadata": {},
   "outputs": [],
   "source": [
    "def initialize(n_x: int, layers: list, scale: float = 0.01, \n",
    "            scaling_type: str='uniform', **kwargs) -> dict:\n",
    "    print(f\"Initializing parameters... {{scaling-type: {scaling_type}, default-scale: {scale}}}\")\n",
    "    print(f\".......................... {{layers: {layers}}}\")\n",
    "\n",
    "    rng = default_rng(1)\n",
    "    model = dict()\n",
    "    \n",
    "    model['L'] = len(layers)\n",
    "    diml_1 = n_x\n",
    "    for l, diml in enumerate(layers):\n",
    "        if scaling_type == 'xavier':\n",
    "            scale_factor = 1 / np.sqrt(diml_1)\n",
    "        elif scaling_type == 'yoshua':\n",
    "            scale_factor = np.sqrt(2 / (diml + diml_1))\n",
    "        elif scaling_type == 'he':\n",
    "            if str(l+1) != len(layers):\n",
    "                # same as the criteria used below for deciding the activation-function\n",
    "                scale_factor = np.sqrt(2 / diml_1)\n",
    "            else:\n",
    "                scale_factor = scale\n",
    "        else:\n",
    "            scale_factor = scale\n",
    "\n",
    "        model['W-l' + str(l + 1)] = rng.standard_normal(\n",
    "            size=(diml_1, diml), dtype=np.float64) * scale_factor\n",
    "        model['b-l' + str(l + 1)] = rng.standard_normal(\n",
    "            size=(diml, 1), dtype=np.float64)\n",
    "        # relu for all, sigmoid for last    \n",
    "        model['g-l' + str(l + 1)] = 'relu' if l + 1 != len(layers) else 'sigmoid'\n",
    "        \n",
    "        diml_1 = diml\n",
    "\n",
    "    return model\n",
    "\n",
    "def model(layer_dims:list, pre_process_method: int, iterations: int, alpha: float, \n",
    "            debug: bool=False, debug_per_iter: int=100, **kwargs):\n",
    "    X_train, Y_train, X_test, Y_test = pre_process(pre_process_method)\n",
    "    params = initialize(n_x=X_train.shape[0], layers=layer_dims, **kwargs)\n",
    "    params, train_cache = gradient_descent(X_train, Y_train, params, alpha=alpha, \n",
    "        num_iters=iterations, debug_mode=debug, debug_per_iter=debug_per_iter, **kwargs)\n",
    "    measure_accuracy(X_train, X_test, Y_train, Y_test, params)\n",
    "\n",
    "    if train_cache is not None:\n",
    "        y = [cache[1] for cache in train_cache]\n",
    "        fig, ax = plt.subplots(nrows=1, ncols=1, figsize=(15,10))\n",
    "        ax.plot(y)\n",
    "        ax.set_title(\"Cost-function vs Iteration\")\n",
    "        ax.set_ylabel(\"cost-function ($J$)\")\n",
    "        ax.set_xlabel(\"training-iteration ($i$)\")\n",
    "\n",
    "        plt.show()\n",
    "    \n",
    "    return params, train_cache"
   ]
  },
  {
   "cell_type": "markdown",
   "metadata": {},
   "source": [
    "## # 2-layer neural-network\n",
    "Here we train a 2-layer neural-network defined as, \n",
    "\n",
    "$n^{[1]} = 7$ and $n^{[2]} = 1$."
   ]
  },
  {
   "cell_type": "code",
   "execution_count": 7,
   "metadata": {},
   "outputs": [
    {
     "name": "stdout",
     "output_type": "stream",
     "text": [
      "Pre-processing data-set... {method: 2} (division by 255)\n",
      "X-train: (12288, 209)\n",
      "Y-train: (1, 209)\n",
      "X-test: (12288, 50)\n",
      "Y-test: (1, 50)\n",
      "Initializing parameters... {scaling-type: uniform, default-scale: 0.01}\n",
      ".......................... {layers: [7, 1]}\n",
      "Gradient-descent... {alpha: 0.0075, num_iters: 2500}\n",
      "................... {gradient_func: update_model, cost_func: cost}\n",
      "................... {forward_prop_func: forward_propogate}\n"
     ]
    },
    {
     "name": "stderr",
     "output_type": "stream",
     "text": [
      "100%|██████████| 2500/2500 [00:43<00:00, 57.72it/s]\n"
     ]
    },
    {
     "name": "stdout",
     "output_type": "stream",
     "text": [
      "Train accuracy: 100.0%\n",
      "Test accuracy: 72.0%\n"
     ]
    },
    {
     "data": {
      "image/png": "[encoded data removed]",
      "text/plain": [
       "<Figure size 1080x720 with 1 Axes>"
      ]
     },
     "metadata": {
      "needs_background": "light"
     },
     "output_type": "display_data"
    }
   ],
   "source": [
    "params, train_cache = model(layer_dims=[7,1], pre_process_method=2, \n",
    "    iterations=2500, alpha=0.0075, debug=True)"
   ]
  },
  {
   "cell_type": "markdown",
   "metadata": {},
   "source": [
    "## # 4-layer neural-network\n",
    "Here we train a 4-layer neural network with,\n",
    "\n",
    "$n^{[1]} = 20$, $n^{[2]} = 7$, $n^{[3]} = 5$, $n^{[4]} = 1$"
   ]
  },
  {
   "cell_type": "code",
   "execution_count": 8,
   "metadata": {},
   "outputs": [
    {
     "name": "stdout",
     "output_type": "stream",
     "text": [
      "Pre-processing data-set... {method: 2} (division by 255)\n",
      "X-train: (12288, 209)\n",
      "Y-train: (1, 209)\n",
      "X-test: (12288, 50)\n",
      "Y-test: (1, 50)\n",
      "Initializing parameters... {scaling-type: xavier, default-scale: 1}\n",
      ".......................... {layers: [20, 7, 5, 1]}\n",
      "Gradient-descent... {alpha: 0.0075, num_iters: 2500}\n",
      "................... {gradient_func: update_model, cost_func: cost}\n",
      "................... {forward_prop_func: forward_propogate}\n"
     ]
    },
    {
     "name": "stderr",
     "output_type": "stream",
     "text": [
      "100%|██████████| 2500/2500 [01:00<00:00, 41.59it/s]\n"
     ]
    },
    {
     "name": "stdout",
     "output_type": "stream",
     "text": [
      "Train accuracy: 100.0%\n",
      "Test accuracy: 78.0%\n"
     ]
    },
    {
     "data": {
      "image/png": "[encoded data removed]",
      "text/plain": [
       "<Figure size 1080x720 with 1 Axes>"
      ]
     },
     "metadata": {
      "needs_background": "light"
     },
     "output_type": "display_data"
    }
   ],
   "source": [
    "params, train_cache = model(layer_dims=[20, 7, 5, 1], pre_process_method=2, \n",
    "    iterations=2500, alpha=0.0075, debug=True, scaling_type='xavier', scale=1)"
   ]
  },
  {
   "cell_type": "markdown",
   "metadata": {},
   "source": [
    "However, pre-processing the dataset with mean and variance normalization (i.e., method-1) is resulting worse performance (see below). So, to improve the performance of the model, I will have to do more hyper-parameter tuning."
   ]
  },
  {
   "cell_type": "code",
   "execution_count": 7,
   "metadata": {},
   "outputs": [
    {
     "name": "stdout",
     "output_type": "stream",
     "text": [
      "Pre-processing data-set... {method: 1} (mean & variance normalization)\n",
      "X-train: (12288, 209)\n",
      "Y-train: (1, 209)\n",
      "X-test: (12288, 50)\n",
      "Y-test: (1, 50)\n",
      "Initializing parameters... {scaling-type: xavier, default-scale: 1}\n",
      ".......................... {layers: [20, 7, 5, 1]}\n",
      "Gradient-descent... {alpha: 0.0075, num_iters: 2500}\n",
      "................... {gradient_func: update_model, cost_func: cost}\n",
      "................... {forward_prop_func: forward_propogate}\n"
     ]
    },
    {
     "name": "stderr",
     "output_type": "stream",
     "text": [
      "100%|██████████| 2500/2500 [01:03<00:00, 39.18it/s]\n"
     ]
    },
    {
     "name": "stdout",
     "output_type": "stream",
     "text": [
      "Train accuracy: 100.0%\n",
      "Test accuracy: 74.0%\n"
     ]
    },
    {
     "data": {
      "image/png": "[encoded data removed]",
      "text/plain": [
       "<Figure size 1080x720 with 1 Axes>"
      ]
     },
     "metadata": {
      "needs_background": "light"
     },
     "output_type": "display_data"
    }
   ],
   "source": [
    "params, train_cache = model(layer_dims=[20, 7, 5, 1], pre_process_method=1, \n",
    "    iterations=2500, alpha=0.0075, debug=True, scaling_type='xavier', scale=1)"
   ]
  }
 ],
 "metadata": {
  "interpreter": {
   "hash": "2e071ec572a7e1b7673737b96656b8982f19d064986a27540442efaa1a1ac7d4"
  },
  "kernelspec": {
   "display_name": "Python 3.8.10 64-bit ('.venv': venv)",
   "language": "python",
   "name": "python3"
  },
  "language_info": {
   "codemirror_mode": {
    "name": "ipython",
    "version": 3
   },
   "file_extension": ".py",
   "mimetype": "text/x-python",
   "name": "python",
   "nbconvert_exporter": "python",
   "pygments_lexer": "ipython3",
   "version": "3.8.10"
  },
  "orig_nbformat": 4
 },
 "nbformat": 4,
 "nbformat_minor": 2
}
